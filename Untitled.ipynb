{
 "cells": [
  {
   "cell_type": "code",
   "execution_count": null,
   "id": "b44c1c9e-9d56-404f-8bf2-37cd1176de64",
   "metadata": {},
   "outputs": [],
   "source": [
    "import copy\n",
    "import torch\n",
    "import time\n",
    "import os\n",
    "import random \n",
    "import numpy as np\n",
    "import aux_funcs  as af\n",
    "import network_architectures as arcs\n",
    "\n",
    "from architectures.CNNs.VGG import VGG\n",
    "\n",
    "from train_networks import *"
   ]
  },
  {
   "cell_type": "code",
   "execution_count": null,
   "id": "3fdbfdf5-222f-4069-b936-4773768d81ee",
   "metadata": {},
   "outputs": [],
   "source": [
    "random_seed = af.get_random_seed()\n",
    "af.set_random_seeds()\n",
    "print('Random Seed: {}'.format(random_seed))\n",
    "device = af.get_pytorch_device()\n",
    "models_path = 'networks/{}'.format(af.get_random_seed())\n",
    "af.create_path(models_path)\n",
    "af.set_logger('outputs/train_models'.format(af.get_random_seed()))"
   ]
  },
  {
   "cell_type": "code",
   "execution_count": null,
   "id": "c80e4e7c-ac04-4a6f-b172-3eac36b0bf7f",
   "metadata": {},
   "outputs": [],
   "source": [
    "tasks = ['cifar10']\n",
    "cnns = []\n",
    "sdns = []\n",
    "\n",
    "for task in tasks:\n",
    "        af.extend_lists(cnns, sdns, arcs.create_resnet56_rpf(models_path, task, save_type='cd'))"
   ]
  },
  {
   "cell_type": "code",
   "execution_count": null,
   "id": "725cfe3d-7284-4037-a42b-08baa8438ef1",
   "metadata": {},
   "outputs": [],
   "source": [
    "cnns,sdns"
   ]
  },
  {
   "cell_type": "code",
   "execution_count": null,
   "id": "679e82be-e705-435b-8fb3-39b0702131a3",
   "metadata": {},
   "outputs": [],
   "source": [
    "train(models_path, cnns, sdn=False, device=device)"
   ]
  },
  {
   "cell_type": "code",
   "execution_count": null,
   "id": "010855fe-b236-415e-8f79-cd442255e7ae",
   "metadata": {},
   "outputs": [],
   "source": [
    "train_sdns(models_path, sdns, ic_only=True, device=device) # train SDNs with IC-only strategy"
   ]
  },
  {
   "cell_type": "code",
   "execution_count": null,
   "id": "fadca5dd-e300-4820-b8c0-d7b54a9b1585",
   "metadata": {},
   "outputs": [],
   "source": [
    "train_sdns(models_path, sdns, ic_only=False, device=device) # train SDNs with SDN-training strategy"
   ]
  },
  {
   "cell_type": "code",
   "execution_count": 1,
   "id": "b3aefeb3-28ba-4515-8807-4196edbb8921",
   "metadata": {},
   "outputs": [],
   "source": [
    "import torch"
   ]
  },
  {
   "cell_type": "code",
   "execution_count": 2,
   "id": "77224f1c-4ab6-4857-a461-aa532e1b5eb9",
   "metadata": {},
   "outputs": [],
   "source": [
    "a = torch.rand((128,10))"
   ]
  },
  {
   "cell_type": "code",
   "execution_count": 16,
   "id": "4fd7749f-f832-466e-9220-51f110f91e3e",
   "metadata": {},
   "outputs": [
    {
     "data": {
      "text/plain": [
       "tensor(1.0000)"
      ]
     },
     "execution_count": 16,
     "metadata": {},
     "output_type": "execute_result"
    }
   ],
   "source": [
    "torch.nn.functional.softmax(a, dim = 1)[0].sum()"
   ]
  },
  {
   "cell_type": "code",
   "execution_count": 11,
   "id": "51d94312-7ac0-423a-a40f-2ebfe575b581",
   "metadata": {},
   "outputs": [
    {
     "ename": "ValueError",
     "evalue": "Expected input batch_size (128) to match target batch_size (10).",
     "output_type": "error",
     "traceback": [
      "\u001b[0;31m---------------------------------------------------------------------------\u001b[0m",
      "\u001b[0;31mValueError\u001b[0m                                Traceback (most recent call last)",
      "Cell \u001b[0;32mIn [11], line 1\u001b[0m\n\u001b[0;32m----> 1\u001b[0m \u001b[43mtorch\u001b[49m\u001b[38;5;241;43m.\u001b[39;49m\u001b[43mnn\u001b[49m\u001b[38;5;241;43m.\u001b[39;49m\u001b[43mfunctional\u001b[49m\u001b[38;5;241;43m.\u001b[39;49m\u001b[43mcross_entropy\u001b[49m\u001b[43m(\u001b[49m\u001b[43mfwd\u001b[49m\u001b[43m,\u001b[49m\u001b[43m \u001b[49m\u001b[43mlabel\u001b[49m\u001b[43m)\u001b[49m\n",
      "File \u001b[0;32m/usr/local/lib/python3.9/dist-packages/torch/nn/functional.py:3014\u001b[0m, in \u001b[0;36mcross_entropy\u001b[0;34m(input, target, weight, size_average, ignore_index, reduce, reduction, label_smoothing)\u001b[0m\n\u001b[1;32m   3012\u001b[0m \u001b[38;5;28;01mif\u001b[39;00m size_average \u001b[38;5;129;01mis\u001b[39;00m \u001b[38;5;129;01mnot\u001b[39;00m \u001b[38;5;28;01mNone\u001b[39;00m \u001b[38;5;129;01mor\u001b[39;00m reduce \u001b[38;5;129;01mis\u001b[39;00m \u001b[38;5;129;01mnot\u001b[39;00m \u001b[38;5;28;01mNone\u001b[39;00m:\n\u001b[1;32m   3013\u001b[0m     reduction \u001b[38;5;241m=\u001b[39m _Reduction\u001b[38;5;241m.\u001b[39mlegacy_get_string(size_average, reduce)\n\u001b[0;32m-> 3014\u001b[0m \u001b[38;5;28;01mreturn\u001b[39;00m \u001b[43mtorch\u001b[49m\u001b[38;5;241;43m.\u001b[39;49m\u001b[43m_C\u001b[49m\u001b[38;5;241;43m.\u001b[39;49m\u001b[43m_nn\u001b[49m\u001b[38;5;241;43m.\u001b[39;49m\u001b[43mcross_entropy_loss\u001b[49m\u001b[43m(\u001b[49m\u001b[38;5;28;43minput\u001b[39;49m\u001b[43m,\u001b[49m\u001b[43m \u001b[49m\u001b[43mtarget\u001b[49m\u001b[43m,\u001b[49m\u001b[43m \u001b[49m\u001b[43mweight\u001b[49m\u001b[43m,\u001b[49m\u001b[43m \u001b[49m\u001b[43m_Reduction\u001b[49m\u001b[38;5;241;43m.\u001b[39;49m\u001b[43mget_enum\u001b[49m\u001b[43m(\u001b[49m\u001b[43mreduction\u001b[49m\u001b[43m)\u001b[49m\u001b[43m,\u001b[49m\u001b[43m \u001b[49m\u001b[43mignore_index\u001b[49m\u001b[43m,\u001b[49m\u001b[43m \u001b[49m\u001b[43mlabel_smoothing\u001b[49m\u001b[43m)\u001b[49m\n",
      "\u001b[0;31mValueError\u001b[0m: Expected input batch_size (128) to match target batch_size (10)."
     ]
    }
   ],
   "source": [
    "torch.nn.functional.cross_entropy(fwd, label)"
   ]
  },
  {
   "cell_type": "code",
   "execution_count": null,
   "id": "5e340768-29ce-4b88-abf4-55d20efd6dac",
   "metadata": {},
   "outputs": [],
   "source": []
  }
 ],
 "metadata": {
  "kernelspec": {
   "display_name": "Python 3 (ipykernel)",
   "language": "python",
   "name": "python3"
  },
  "language_info": {
   "codemirror_mode": {
    "name": "ipython",
    "version": 3
   },
   "file_extension": ".py",
   "mimetype": "text/x-python",
   "name": "python",
   "nbconvert_exporter": "python",
   "pygments_lexer": "ipython3",
   "version": "3.9.16"
  }
 },
 "nbformat": 4,
 "nbformat_minor": 5
}
